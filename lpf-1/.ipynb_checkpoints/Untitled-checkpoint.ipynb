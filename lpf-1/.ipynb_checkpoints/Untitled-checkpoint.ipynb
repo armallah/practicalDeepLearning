{
 "cells": [
  {
   "cell_type": "code",
   "execution_count": 1,
   "id": "7f6db44c-d294-482c-a895-0979b0501ce2",
   "metadata": {},
   "outputs": [],
   "source": [
    "from fastai.vision.all import *"
   ]
  },
  {
   "cell_type": "code",
   "execution_count": null,
   "id": "8c56166b-3877-4810-ba10-70337e6cb4f2",
   "metadata": {},
   "outputs": [
    {
     "data": {
      "text/html": [
       "\n",
       "<style>\n",
       "    /* Turns off some styling */\n",
       "    progress {\n",
       "        /* gets rid of default border in Firefox and Opera. */\n",
       "        border: none;\n",
       "        /* Needs to be in here for Safari polyfill so background images work as expected. */\n",
       "        background-size: auto;\n",
       "    }\n",
       "    progress:not([value]), progress:not([value])::-webkit-progress-bar {\n",
       "        background: repeating-linear-gradient(45deg, #7e7e7e, #7e7e7e 10px, #5c5c5c 10px, #5c5c5c 20px);\n",
       "    }\n",
       "    .progress-bar-interrupted, .progress-bar-interrupted::-webkit-progress-bar {\n",
       "        background: #F44336;\n",
       "    }\n",
       "</style>\n"
      ],
      "text/plain": [
       "<IPython.core.display.HTML object>"
      ]
     },
     "metadata": {},
     "output_type": "display_data"
    },
    {
     "data": {
      "text/html": [
       "\n",
       "    <div>\n",
       "      <progress value='41926656' class='' max='811706944' style='width:300px; height:20px; vertical-align: middle;'></progress>\n",
       "      5.17% [41926656/811706944 00:18&lt;05:37]\n",
       "    </div>\n",
       "    "
      ],
      "text/plain": [
       "<IPython.core.display.HTML object>"
      ]
     },
     "metadata": {},
     "output_type": "display_data"
    }
   ],
   "source": [
    "path = untar_data(URLs.PETS)/'images'"
   ]
  },
  {
   "cell_type": "code",
   "execution_count": null,
   "id": "5c8c6332-c91b-487d-8f5c-11996c0e078d",
   "metadata": {},
   "outputs": [],
   "source": [
    "# This defines a function is_cat that takes a parameter x.\n",
    "# It returns True if the first character of x is uppercase, and False otherwise. \n",
    "# This is likely used to determine if a filename represents a cat image \n",
    "# (assuming cat image filenames start with an uppercase letter).\n",
    "def is_cat(x): return x[0].isupper()\n",
    "\n",
    "#path: The directory containing the images\n",
    "#get_image_files(path): Gets all image files in the specified path\n",
    "#valid_pct=0.2: 20% of the data will be used for validation\n",
    "#seed=42: Sets a random seed for reproducibility\n",
    "#label_func=is_cat: Uses the is_cat function to determine labels\n",
    "#item_tfms=Resize(224): Resizes all images to 224x224 pixels\n",
    "dls = ImageDataLoaders.from_name_func(\n",
    "    path, get_image_files(path), valid_pct=0.2, seed=42,\n",
    "    label_func=is_cat, item_tfms=Resize(224))\n"
   ]
  },
  {
   "cell_type": "code",
   "execution_count": null,
   "id": "3565713f-1bd1-4c70-ad1b-2125d6f08e5b",
   "metadata": {},
   "outputs": [],
   "source": [
    "learn = cnn_learner(dls, resnet34, metrics=error_rate)\n",
    "learn.fine_tune(1)"
   ]
  },
  {
   "cell_type": "code",
   "execution_count": null,
   "id": "11489797-f845-4ecc-a96e-ae3ba3af1030",
   "metadata": {},
   "outputs": [],
   "source": [
    "uploader = widgets.FileUpload()\n",
    "uploader"
   ]
  },
  {
   "cell_type": "code",
   "execution_count": null,
   "id": "2d090886-9a12-42a4-ad31-02ed64e4d0df",
   "metadata": {},
   "outputs": [],
   "source": [
    "img = PILImage.create(uploader.data[0])\n",
    "is_cat,_,probs = learn.predict(img)\n",
    "print(f\"Is this a cat?: {is_cat}.\")\n",
    "print(f\"Probability it's a cat: {probs[1].item():.6f}\")"
   ]
  },
  {
   "cell_type": "code",
   "execution_count": null,
   "id": "f874718a-6899-48c1-81cf-264c8c036e2a",
   "metadata": {},
   "outputs": [],
   "source": []
  }
 ],
 "metadata": {
  "kernelspec": {
   "display_name": "Python 3 (ipykernel)",
   "language": "python",
   "name": "python3"
  },
  "language_info": {
   "codemirror_mode": {
    "name": "ipython",
    "version": 3
   },
   "file_extension": ".py",
   "mimetype": "text/x-python",
   "name": "python",
   "nbconvert_exporter": "python",
   "pygments_lexer": "ipython3",
   "version": "3.12.4"
  }
 },
 "nbformat": 4,
 "nbformat_minor": 5
}
